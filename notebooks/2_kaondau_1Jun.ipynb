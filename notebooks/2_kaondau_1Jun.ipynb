{
 "cells": [
  {
   "cell_type": "code",
   "execution_count": 1,
   "id": "fabulous-parker",
   "metadata": {},
   "outputs": [],
   "source": [
    "from coffea import hist\n",
    "import math\n",
    "\n",
    "%matplotlib inline\n",
    "import matplotlib.pyplot as plt\n",
    "import matplotlib.colors as colors\n",
    "import mplhep as hep\n",
    "plt.style.use(hep.style.CMS)\n",
    "\n",
    "import awkward as ak\n",
    "\n",
    "from matplotlib import colors\n",
    "POPTS={'norm':colors.LogNorm()}"
   ]
  },
  {
   "cell_type": "code",
   "execution_count": 2,
   "id": "interesting-basketball",
   "metadata": {},
   "outputs": [],
   "source": [
    "from data import getData, repackage\n",
    "ldmx_dict = getData(chunks=True, fnames=\"/Users/cmantill/LDMX/ldmx-helpers/data/kshort_pn_4GeV_Jun2_ntuple/pn_kshortfilter_1M_events_r0000_b47363.root\")"
   ]
  },
  {
   "cell_type": "code",
   "execution_count": 3,
   "id": "manufactured-personal",
   "metadata": {},
   "outputs": [],
   "source": [
    "def extend_array(arr, new_attr, new_attr_name):\n",
    "    members={n:arr[n] for n in arr.fields}\n",
    "    members[new_attr_name] = new_attr\n",
    "    return ak.zip(members)\n",
    "\n",
    "def add_angle(arr,br=['px','py','pz','e'],name=\"theta\"):\n",
    "    from coffea.nanoevents.methods import vector\n",
    "    ak.behavior.update(vector.behavior)\n",
    "\n",
    "    part =  ak.zip({\"x\": arr.px,\n",
    "                    \"y\": arr.py,\n",
    "                    \"z\": arr.pz,\n",
    "                    \"t\": arr.e,\n",
    "                    },\n",
    "                    with_name=\"LorentzVector\")\n",
    "    arr = extend_array(arr, part.theta, name)\n",
    "    return arr\n",
    "\n",
    "def get_vector(arr):\n",
    "    from coffea.nanoevents.methods import vector\n",
    "    ak.behavior.update(vector.behavior)\n",
    "\n",
    "    part =  ak.zip({\"x\": arr.px,\n",
    "                    \"y\": arr.py,\n",
    "                    \"z\": arr.pz,\n",
    "                    \"t\": arr.e,\n",
    "                    },\n",
    "                    with_name=\"LorentzVector\")\n",
    "    return part\n",
    "\n",
    "def flat(x,axis=None): # for now must cast while waiting for coffea to catch up\n",
    "    try:\n",
    "        return ak.to_numpy(ak.flatten(x,axis=axis)) \n",
    "    except:\n",
    "        return x"
   ]
  },
  {
   "cell_type": "code",
   "execution_count": 4,
   "id": "green-calvin",
   "metadata": {},
   "outputs": [],
   "source": [
    "hists = {}"
   ]
  },
  {
   "cell_type": "code",
   "execution_count": 5,
   "id": "graphic-river",
   "metadata": {},
   "outputs": [],
   "source": [
    "def ProcessChunk(chunk, hists):\n",
    "    ldmx_events = repackage(chunk)\n",
    "\n",
    "    target_kaon_dau1 = ldmx_events['TSP_Kaon_dau1']\n",
    "    target_kaon_dau2 = ldmx_events['TSP_Kaon_dau2']\n",
    "    target_kaon_dau3 = ldmx_events['TSP_Kaon_dau3']\n",
    "    target_kaon_dau4 = ldmx_events['TSP_Kaon_dau4']\n",
    "    \n",
    "    kshort_pdgid = 310\n",
    "    chargedpion_pdgid = 211\n",
    "    \n",
    "    # first select only events w 2 daughters\n",
    "    mask_2dau = (target_kaon_dau1.gd==0)\n",
    "    mask_4dau = (target_kaon_dau1.gd==1)\n",
    "    \n",
    "    kshort_mask = (abs(target_kaon_dau1.mompdgID)==kshort_pdgid)\n",
    "        \n",
    "    pidau1_mask = (abs(target_kaon_dau1.pdgID)==chargedpion_pdgid)\n",
    "    pidau2_mask = (abs(target_kaon_dau2.pdgID)==chargedpion_pdgid)\n",
    "\n",
    "    pidau1 = get_vector(target_kaon_dau1[pidau1_mask & kshort_mask & mask_2dau])\n",
    "    pidau2 = get_vector(target_kaon_dau2[pidau2_mask & kshort_mask & mask_2dau])\n",
    "\n",
    "    pisum = (pidau1 + pidau2)\n",
    "    print(pisum.mass)\n",
    "    print(flat(pidau1.mass).shape)\n",
    "    print(flat(pisum.mass).shape)\n",
    "    \n",
    "    return "
   ]
  },
  {
   "cell_type": "code",
   "execution_count": 6,
   "id": "pursuant-priest",
   "metadata": {},
   "outputs": [
    {
     "name": "stdout",
     "output_type": "stream",
     "text": [
      "process 1\n",
      "[[], [], [492], [], [499], [496], [], ... [505], [476], [502], [], [500], [], []]\n",
      "(177,)\n",
      "(177,)\n"
     ]
    }
   ],
   "source": [
    "nchunk = 0\n",
    "for chunk in ldmx_dict:\n",
    "    if nchunk >= 1: break\n",
    "    nchunk += 1\n",
    "    print('process',nchunk)\n",
    "    ProcessChunk(chunk, hists)"
   ]
  },
  {
   "cell_type": "code",
   "execution_count": null,
   "id": "waiting-implementation",
   "metadata": {},
   "outputs": [],
   "source": []
  }
 ],
 "metadata": {
  "kernelspec": {
   "display_name": "Python 3",
   "language": "python",
   "name": "python3"
  },
  "language_info": {
   "codemirror_mode": {
    "name": "ipython",
    "version": 3
   },
   "file_extension": ".py",
   "mimetype": "text/x-python",
   "name": "python",
   "nbconvert_exporter": "python",
   "pygments_lexer": "ipython3",
   "version": "3.8.5"
  }
 },
 "nbformat": 4,
 "nbformat_minor": 5
}
