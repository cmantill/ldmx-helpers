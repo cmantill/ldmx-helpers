{
 "cells": [
  {
   "cell_type": "code",
   "execution_count": 1,
   "id": "soviet-shadow",
   "metadata": {},
   "outputs": [],
   "source": [
    "from coffea import hist\n",
    "import math\n",
    "\n",
    "%matplotlib inline\n",
    "import matplotlib.pyplot as plt\n",
    "import matplotlib.colors as colors\n",
    "import mplhep as hep\n",
    "import numpy as np\n",
    "import random\n",
    "plt.style.use(hep.style.CMS)\n",
    "\n",
    "import awkward as ak\n",
    "\n",
    "from matplotlib import colors\n",
    "POPTS={'norm':colors.LogNorm(vmin=1,vmax=200)}"
   ]
  },
  {
   "cell_type": "code",
   "execution_count": 2,
   "id": "sufficient-preview",
   "metadata": {},
   "outputs": [],
   "source": [
    "from data import getData, repackage\n",
    "ldmx_dict = getData(chunks=True, fnames=\"/Users/cmantill/LDMX/ldmx-analysis/config/kaon_ntuple.root\")"
   ]
  },
  {
   "cell_type": "code",
   "execution_count": 3,
   "id": "lined-distributor",
   "metadata": {},
   "outputs": [],
   "source": [
    "def extend_array(arr, new_attr, new_attr_name):\n",
    "    members={n:arr[n] for n in arr.fields}\n",
    "    members[new_attr_name] = new_attr\n",
    "    return ak.zip(members)\n",
    "\n",
    "def add_angle(arr,br=['px','py','pz','e'],name=\"theta\"):\n",
    "    from coffea.nanoevents.methods import vector\n",
    "    ak.behavior.update(vector.behavior)\n",
    "\n",
    "    part =  ak.zip({\"x\": arr.px,\n",
    "                    \"y\": arr.py,\n",
    "                    \"z\": arr.pz,\n",
    "                    \"t\": arr.e,\n",
    "                    },\n",
    "                    with_name=\"LorentzVector\")\n",
    "    arr = extend_array(arr, part.theta, name)\n",
    "    return arr\n",
    "\n",
    "def get_vector(arr):\n",
    "    from coffea.nanoevents.methods import vector\n",
    "    ak.behavior.update(vector.behavior)\n",
    "\n",
    "    part =  ak.zip({\"x\": arr.px,\n",
    "                    \"y\": arr.py,\n",
    "                    \"z\": arr.pz,\n",
    "                    \"t\": arr.e,\n",
    "                    },\n",
    "                    with_name=\"LorentzVector\")\n",
    "    return part\n",
    "\n",
    "def flat(x,axis=None): # for now must cast while waiting for coffea to catch up\n",
    "    try:\n",
    "        return ak.to_numpy(ak.flatten(x,axis=axis)) \n",
    "    except:\n",
    "        return x\n",
    "    \n",
    "    \n",
    "def track_smear(kinetic_energy, theta):\n",
    "    # assume flat uncertainty on the energy (I think that is 6%)\n",
    "    c_eres = random.gauss(1.,0.06); # flat 10% uncertainty for now\n",
    "    # assume some uncertainty on the angle (I think that is 2%)\n",
    "    c_hres = random.gauss(0.,0.02); # 1 degrees\n",
    "    return (c_eres*kinetic_energy, abs(c_hres+theta))\n",
    "\n",
    "def test_smear(pz):\n",
    "    c_eres_array = []\n",
    "    for part in pz:\n",
    "        for element in part:\n",
    "            if element <= 50:\n",
    "                c_eres = random.gauss(1,0.0404);\n",
    "            elif element <= 100: \n",
    "                c_eres = random.gauss(1,0.0410);\n",
    "            elif element <= 250: \n",
    "                c_eres = random.gauss(1,0.0415);\n",
    "            elif element <= 500: \n",
    "                c_eres = random.gauss(1,0.0420);\n",
    "            elif element <= 1000: \n",
    "                c_eres = random.gauss(1,0.0435);\n",
    "            elif element <= 2000:  \n",
    "                c_eres = random.gauss(1,0.0477);\n",
    "            elif element <= 3000:  \n",
    "                c_eres = random.gauss(1,0.0523);\n",
    "            elif element <= 4000:  \n",
    "                c_eres = random.gauss(1,0.0573);            \n",
    "            else:    \n",
    "                c_eres = random.gauss(1,0.06);\n",
    "            c_eres_array=np.append(c_eres_array, [c_eres])\n",
    "    return (c_eres_array) \n",
    "\n",
    "def piecewise_smear(pz):\n",
    "    c_eres_array = []\n",
    "    for part in pz:\n",
    "        for element in part:\n",
    "            if element <= 50:\n",
    "                c_eres = random.gauss(1,0.0404);\n",
    "            elif element <= 100: \n",
    "                c_eres = random.gauss(1,0.0410);\n",
    "            elif element <= 250: \n",
    "                c_eres = random.gauss(1,0.0415);\n",
    "            elif element <= 500: \n",
    "                c_eres = random.gauss(1,0.0420);\n",
    "            elif element <= 1000: \n",
    "                c_eres = random.gauss(1,0.0435);\n",
    "            elif element <= 2000:  \n",
    "                c_eres = random.gauss(1,0.0477);\n",
    "            elif element <= 3000:  \n",
    "                c_eres = random.gauss(1,0.0523);\n",
    "            elif element <= 4000:  \n",
    "                c_eres = random.gauss(1,0.0573);            \n",
    "            else:    \n",
    "                c_eres = random.gauss(1,0.06);\n",
    "            c_eres_array=np.append(c_eres_array, [c_eres])\n",
    "    return (c_eres_array)"
   ]
  },
  {
   "cell_type": "code",
   "execution_count": 4,
   "id": "related-ordinance",
   "metadata": {},
   "outputs": [],
   "source": [
    "hists = {}\n",
    "hists[\"sim_kaone_hist_new\"] = hist.Hist(\"Sim Pions\",\n",
    "                                hist.Bin(\"k\", r\"Reconstructed $K_s$ Kinetic Energy [MeV]\", 40, 0, 3500),\n",
    "                                hist.Bin(\"e\", r\"Electron Energy [MeV]\", 40, 0, 1500),\n",
    "                            )\n",
    "hists[\"sim_kaone_hist_thetacut\"] = hist.Hist(\"Sim Pions\",\n",
    "                                hist.Bin(\"k\", r\"Reconstructed $K_s$ Kinetic Energy [MeV]\", 40, 0, 3500),\n",
    "                                hist.Bin(\"e\", r\"Electron Energy [MeV]\", 40, 0, 1500),\n",
    "                            )"
   ]
  },
  {
   "cell_type": "code",
   "execution_count": 5,
   "id": "comfortable-elizabeth",
   "metadata": {},
   "outputs": [],
   "source": [
    "def ProcessChunk(chunk, hists):\n",
    "    ldmx_events = repackage(chunk)\n",
    "\n",
    "    sim_lambda = ldmx_events['Sim_Lambda']\n",
    "    sim_lambda_dau1 = ldmx_events['Sim_Lambda_dau1']\n",
    "    sim_lambda_dau2 = ldmx_events['Sim_Lambda_dau2']\n",
    "    \n",
    "    lambda_pdgid = 3122\n",
    "    chargedpion_pdgid = 211\n",
    "    pion_mass = 139\n",
    "    kaon_mass = 497.648\n",
    "    \n",
    "    kshort_mask = (abs(sim_lambda_dau2.mompdgID)==lambda_pdgid)\n",
    "    pidau_mask = (abs(sim_lambda_dau2.pdgID)==chargedpion_pdgid)\n",
    "\n",
    "    pi1 = get_vector(sim_lambda_dau1[pidau_mask & kshort_mask])\n",
    "    pi2 = get_vector(sim_lambda_dau2[pidau_mask & kshort_mask])\n",
    "    pisum = (pi1 + pi2)\n",
    "    \n",
    "    new_ke1 = track_smear(pi1.t - pion_mass, pi1.theta)[0]\n",
    "    new_ke2 = track_smear(pi2.t - pion_mass, pi2.theta)[0]\n",
    "    new_theta1 = track_smear(pi1.t - pion_mass, pi1.theta)[1]\n",
    "    new_theta2 = track_smear(pi2.t - pion_mass, pi2.theta)[1]\n",
    "    new_pz1 = test_smear(pi1.pz)*flat(pi1.pz)\n",
    "    new_psq1 = flat(pi1.px)**2+flat(pi1.py)**2+new_pz1**2\n",
    "    new_pz2= test_smear(pi2.pz)*flat(pi2.pz)\n",
    "    new_psq2 = flat(pi2.px)**2+flat(pi2.py)**2+new_pz2**2\n",
    "    \n",
    "    from coffea.nanoevents.methods import vector\n",
    "    ak.behavior.update(vector.behavior)\n",
    "    pi1_track_smeared =  ak.zip({\"x\": flat(pi1.px),\n",
    "                    \"y\": flat(pi1.py),\n",
    "                    \"z\": new_pz1,\n",
    "                    \"t\": (np.sqrt(new_psq1+flat(pi1.mass)**2)),\n",
    "                    },\n",
    "                    with_name=\"LorentzVector\")\n",
    "    pi2_track_smeared =  ak.zip({\"x\": flat(pi2.px),\n",
    "                    \"y\": flat(pi2.py),\n",
    "                    \"z\": new_pz2,\n",
    "                    \"t\": (np.sqrt(new_psq2+flat(pi2.mass)**2)),\n",
    "                    },\n",
    "                    with_name=\"LorentzVector\")\n",
    "    pisum_track_smeared =(pi1_track_smeared+pi2_track_smeared)\n",
    "    \n",
    "    theta_mask1 = ((40*math.pi/180) >= (flat(pi2.theta)))\n",
    "    theta_mask2 = ((40*math.pi/180) >= (pi2.theta))\n",
    "    \n",
    "    hists[\"sim_kaone_hist_thetacut\"].fill(\n",
    "                                     k = flat(flat(pisum_track_smeared[theta_mask1].t) - kaon_mass),\n",
    "                                     e = flat(sim_lambda_dau2[kshort_mask][theta_mask2].electrone),\n",
    "                                    )\n",
    "    return"
   ]
  },
  {
   "cell_type": "code",
   "execution_count": 6,
   "id": "tutorial-gallery",
   "metadata": {},
   "outputs": [
    {
     "name": "stdout",
     "output_type": "stream",
     "text": [
      "process 1\n"
     ]
    }
   ],
   "source": [
    "nchunk = 0\n",
    "for chunk in ldmx_dict:\n",
    "    # I usually test my code in one chunck only\n",
    "    #if nchunk >= 1: break\n",
    "    nchunk += 1\n",
    "    ProcessChunk(chunk, hists)\n",
    "    print('process', nchunk)"
   ]
  },
  {
   "cell_type": "code",
   "execution_count": 7,
   "id": "baking-collect",
   "metadata": {},
   "outputs": [
    {
     "data": {
      "text/plain": [
       "Text(2900, 1400, '$\\\\theta$<40$^\\\\circ$')"
      ]
     },
     "execution_count": 7,
     "metadata": {},
     "output_type": "execute_result"
    },
    {
     "data": {
      "image/png": "[encoded data removed]",
      "text/plain": [
       "<Figure size 720x720 with 2 Axes>"
      ]
     },
     "metadata": {
      "needs_background": "light"
     },
     "output_type": "display_data"
    }
   ],
   "source": [
    "fig, ax = plt.subplots()\n",
    "hist.plot2d(hists[\"sim_kaone_hist_thetacut\"], xaxis='k', ax=ax, patch_opts=POPTS);\n",
    "ax.text(2900, 1400,r'$\\theta$<40$^\\circ$')"
   ]
  },
  {
   "cell_type": "code",
   "execution_count": null,
   "id": "undefined-spread",
   "metadata": {},
   "outputs": [],
   "source": []
  }
 ],
 "metadata": {
  "kernelspec": {
   "display_name": "Python 3",
   "language": "python",
   "name": "python3"
  },
  "language_info": {
   "codemirror_mode": {
    "name": "ipython",
    "version": 3
   },
   "file_extension": ".py",
   "mimetype": "text/x-python",
   "name": "python",
   "nbconvert_exporter": "python",
   "pygments_lexer": "ipython3",
   "version": "3.8.5"
  }
 },
 "nbformat": 4,
 "nbformat_minor": 5
}
